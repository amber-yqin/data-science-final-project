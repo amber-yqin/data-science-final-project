{
    "metadata": {
        "kernelspec": {
            "name": "python3",
            "display_name": "Python 3.11",
            "language": "python"
        },
        "language_info": {
            "name": "python",
            "version": "3.11.9",
            "mimetype": "text/x-python",
            "codemirror_mode": {
                "name": "ipython",
                "version": 3
            },
            "pygments_lexer": "ipython3",
            "nbconvert_exporter": "python",
            "file_extension": ".py"
        }
    },
    "nbformat_minor": 4,
    "nbformat": 4,
    "cells": [
        {
            "cell_type": "markdown",
            "source": "# Final Project: Data Science Notebook",
            "metadata": {
                "id": "a432d4be-cf8e-4dac-9771-4c06726f1cf0"
            }
        },
        {
            "cell_type": "markdown",
            "source": "## Introduction\nThis notebook demonstrates various concepts related to Data Science, including languages, libraries, tools, and some basic operations.\n",
            "metadata": {
                "id": "144528a5-8a41-4dde-8b09-546324ad12e3"
            }
        },
        {
            "cell_type": "markdown",
            "source": "## Data Science Languages\n- Python\n- R\n- SQL\n- Julia\n- Scala\n",
            "metadata": {
                "id": "abf519dd-b190-40ea-aca9-630c3b3e7422"
            }
        },
        {
            "cell_type": "markdown",
            "source": "## Data Science Libraries\n- NumPy\n- Pandas\n- Matplotlib\n- Scikit-learn\n- TensorFlow\n",
            "metadata": {
                "id": "d9b726e2-e39e-47ac-b0bb-98786f22322e"
            }
        },
        {
            "cell_type": "markdown",
            "source": "## Data Science Tools\n\n| Tool           | Purpose                       |\n|---------------|-----------------------------|\n| Jupyter Notebook | Interactive coding & documentation |\n| RStudio        | IDE for R programming        |\n| Apache Spark   | Big data processing         |\n| TensorFlow     | Machine learning framework  |\n| VS Code        | Code editor for multiple languages |\n",
            "metadata": {
                "id": "cf5ebd49-2d0f-4786-8533-c6100e845489"
            }
        },
        {
            "cell_type": "markdown",
            "source": "## Arithmetic Expression Examples\nBelow are some examples of basic arithmetic operations.\n",
            "metadata": {
                "id": "38babc49-6c30-4d29-ba79-bfd2f52f49f7"
            }
        },
        {
            "cell_type": "code",
            "source": "1+2",
            "metadata": {
                "id": "6c19f82a-20e0-4acb-8878-9db3eb691205"
            },
            "outputs": [
                {
                    "execution_count": 2,
                    "output_type": "execute_result",
                    "data": {
                        "text/plain": "3"
                    },
                    "metadata": {}
                }
            ],
            "execution_count": 2
        },
        {
            "cell_type": "markdown",
            "source": "2*4",
            "metadata": {
                "id": "39cad301-3878-44ab-b13a-71fc0f531719"
            }
        },
        {
            "cell_type": "code",
            "source": "2**2",
            "metadata": {
                "id": "3a5c5e8e-052e-46db-988d-ecdc2b549a2d"
            },
            "outputs": [
                {
                    "execution_count": 4,
                    "output_type": "execute_result",
                    "data": {
                        "text/plain": "4"
                    },
                    "metadata": {}
                }
            ],
            "execution_count": 4
        },
        {
            "cell_type": "code",
            "source": "# Multiplication and Addition Example\na = 5\nb = 10\nresult = (a * b) + 2\nresult\n",
            "metadata": {
                "id": "65e991d4-e900-459c-9097-b1d7e318323a"
            },
            "outputs": [
                {
                    "execution_count": 5,
                    "output_type": "execute_result",
                    "data": {
                        "text/plain": "52"
                    },
                    "metadata": {}
                }
            ],
            "execution_count": 5
        },
        {
            "cell_type": "code",
            "source": "# Convert minutes to hours\nminutes = 120\nhours = minutes / 60\nhours\n",
            "metadata": {
                "id": "19e03f92-4c08-425b-ad9e-67bca81c5737"
            },
            "outputs": [
                {
                    "execution_count": 6,
                    "output_type": "execute_result",
                    "data": {
                        "text/plain": "2.0"
                    },
                    "metadata": {}
                }
            ],
            "execution_count": 6
        },
        {
            "cell_type": "markdown",
            "source": "## Objectives\n- Learn and practice Markdown in Jupyter Notebook\n- List common Data Science languages, libraries, and tools\n- Perform basic arithmetic operations in Python\n- Convert units (minutes to hours)\n- Share the notebook via GitHub\n",
            "metadata": {
                "id": "e2eb4a7a-b17a-4231-b6a1-cecc2147d3b5"
            }
        },
        {
            "cell_type": "markdown",
            "source": "## Author\nYue Qin\n",
            "metadata": {
                "id": "a0f72e6e-318c-480d-9c26-e4f4d9841faf"
            }
        },
        {
            "cell_type": "markdown",
            "source": "## GitHub Link\n[Click here to access this notebook on GitHub](your_github_repository_link)\n",
            "metadata": {
                "id": "4684db8f-030d-43c2-85d9-7d32ee5e0d56"
            }
        }
    ]
}